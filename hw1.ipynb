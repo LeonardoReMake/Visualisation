{
  "nbformat": 4,
  "nbformat_minor": 0,
  "metadata": {
    "colab": {
      "name": "hw1.ipynb\"",
      "provenance": [],
      "collapsed_sections": []
    },
    "kernelspec": {
      "name": "python3",
      "display_name": "Python 3"
    },
    "language_info": {
      "name": "python"
    }
  },
  "cells": [
    {
      "cell_type": "code",
      "metadata": {
        "id": "SCsNjLJym0yA"
      },
      "source": [
        "import os\n",
        "import numpy as np\n",
        "import matplotlib.pyplot as plt\n",
        "import xml.etree.ElementTree as ET"
      ],
      "execution_count": 19,
      "outputs": []
    },
    {
      "cell_type": "code",
      "metadata": {
        "id": "yqnCV_BaiL2U"
      },
      "source": [
        " class Graph:\n",
        "  def loadGraphFromFile(self, pathToXml):\n",
        "    self.nodes = dict()\n",
        "    self.edges = dict()\n",
        "    self.reversedEdges = dict()\n",
        "\n",
        "    tree = ET.parse(pathToXml)\n",
        "    root = tree.getroot()\n",
        "    index = 0\n",
        "    children = root.getchildren()\n",
        "\n",
        "    for entry in children[0]:\n",
        "      if \"node\" not in entry.tag:\n",
        "        source = entry.attrib[\"source\"]\n",
        "        target = entry.attrib[\"target\"]\n",
        "        self.edges[self.nodes[source]].append(self.nodes[target])\n",
        "        self.reversedEdges[self.nodes[target]].append(self.nodes[source])\n",
        "      else:\n",
        "        self.nodes[entry.attrib[\"id\"]] = index\n",
        "        self.edges[index] = []\n",
        "        self.reversedEdges[index] = []\n",
        "        index += 1\n",
        "        \n",
        "    self.roots = []\n",
        "    for node in self.nodes.values():\n",
        "      if len(self.edges[node]) > 0 and len(self.reversedEdges[node]) == 0:\n",
        "        self.roots.append(node)\n"
      ],
      "execution_count": 20,
      "outputs": []
    },
    {
      "cell_type": "code",
      "metadata": {
        "id": "ehBiUZEMxgWM"
      },
      "source": [
        "def nextNode(graph, node, coords, shifts):\n",
        "  coords[node] = (0,0)\n",
        "  shifts[node] = (0,0)\n",
        "  \n",
        "  if len(graph.edges[node]) == 0:\n",
        "    return (0,0)\n",
        "  \n",
        "  childrenAreas = []\n",
        "  for i, child in enumerate(graph.edges[node]):\n",
        "    if i == 2:\n",
        "      break\n",
        "    area = nextNode(graph, child, coords, shifts)\n",
        "    childrenAreas.append(area)\n",
        "  \n",
        "  if len(childrenAreas) == 1:\n",
        "    shifts[graph.edges[node][0]] = (1,0)\n",
        "    return (childrenAreas[0][0] + 1, childrenAreas[0][1])\n",
        "  else:\n",
        "    horizontal = (childrenAreas[0][0] + childrenAreas[1][0] + 1) * max(childrenAreas[0][1] + 1, childrenAreas[1][1])\n",
        "    vertical = (childrenAreas[0][1] + childrenAreas[1][1] + 1) * max(childrenAreas[0][0] + 1, childrenAreas[1][0])\n",
        "\n",
        "    if horizontal < vertical:\n",
        "      shifts[graph.edges[node][0]] = (0,1)\n",
        "      shifts[graph.edges[node][1]] = (1 + childrenAreas[0][0], 0)\n",
        "      return (childrenAreas[0][0] + childrenAreas[1][0] + 1, max(childrenAreas[0][1] + 1, childrenAreas[1][1]))\n",
        "    else:\n",
        "      shifts[graph.edges[node][0]] = (1,0)\n",
        "      shifts[graph.edges[node][1]] = (0, childrenAreas[0][1] + 1)\n",
        "      return (max(childrenAreas[0][0] + 1, childrenAreas[1][0]), childrenAreas[0][1] + childrenAreas[1][1] + 1)\n",
        "\n",
        "def printGraph(graph, node, coords, shifts, prevShift=(0,0)):\n",
        "  shifts[node] = (shifts[node][0] + prevShift[0], shifts[node][1] + prevShift[1])\n",
        "  coords[node] = (coords[node][0] + shifts[node][0], coords[node][1] + shifts[node][1])\n",
        "\n",
        "  for i, child in enumerate(graph.edges[node]):\n",
        "    if i == 2:\n",
        "      break\n",
        "    printGraph(graph, child, coords, shifts, shifts[node])\n",
        "    plt.plot([coords[node][0] - coords[node][1], coords[child][0] - coords[child][1]],\\\n",
        "             [-coords[node][1] - coords[node][0], -coords[child][1] - coords[child][0]],\\\n",
        "             color=\"red\")\n",
        "    plt.scatter([coords[node][0] - coords[node][1], coords[child][0] - coords[child][1]],\\\n",
        "                [-coords[node][1] - coords[node][0], -coords[child][1] - coords[child][0]],\\\n",
        "                color=\"red\")\n",
        "\n",
        "def createHV(graph):\n",
        "  coords = dict()\n",
        "  shifts = dict()\n",
        "  nextNode(graph, graph.roots[0], coords, shifts)\n",
        "  printGraph(graph, graph.roots[0], coords, shifts)"
      ],
      "execution_count": 21,
      "outputs": []
    },
    {
      "cell_type": "code",
      "metadata": {
        "id": "9kA_M1L9I_ne"
      },
      "source": [
        "def drawGraph(pathToGraph):\n",
        "  graph = Graph()\n",
        "  graph.loadGraphFromFile(pathToGraph)\n",
        "  createHV(graph)"
      ],
      "execution_count": 22,
      "outputs": []
    },
    {
      "cell_type": "code",
      "metadata": {
        "colab": {
          "base_uri": "https://localhost:8080/",
          "height": 320
        },
        "id": "5uKzxnxzK4AR",
        "outputId": "aa91b422-5177-4966-8eb3-39773ef4bab3"
      },
      "source": [
        "drawGraph(\"./test1.xml\")"
      ],
      "execution_count": 23,
      "outputs": [
        {
          "output_type": "stream",
          "text": [
            "/usr/local/lib/python3.7/dist-packages/ipykernel_launcher.py:10: DeprecationWarning: This method will be removed in future versions.  Use 'list(elem)' or iteration over elem instead.\n",
            "  # Remove the CWD from sys.path while we load stuff.\n"
          ],
          "name": "stderr"
        },
        {
          "output_type": "display_data",
          "data": {
            "image/png": "[encoded data removed]",
            "text/plain": [
              "<Figure size 432x288 with 1 Axes>"
            ]
          },
          "metadata": {
            "tags": [],
            "needs_background": "light"
          }
        }
      ]
    },
    {
      "cell_type": "code",
      "metadata": {
        "id": "v8ZJ7KgAJYpp"
      },
      "source": [
        ""
      ],
      "execution_count": 23,
      "outputs": []
    }
  ]
}