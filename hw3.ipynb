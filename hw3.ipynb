{
  "nbformat": 4,
  "nbformat_minor": 0,
  "metadata": {
    "colab": {
      "name": "hw1.ipynb",
      "provenance": [],
      "collapsed_sections": []
    },
    "kernelspec": {
      "name": "python3",
      "display_name": "Python 3"
    },
    "language_info": {
      "name": "python"
    }
  },
  "cells": [
    {
      "cell_type": "code",
      "metadata": {
        "colab": {
          "base_uri": "https://localhost:8080/"
        },
        "id": "mo-yE8fSEqKw",
        "outputId": "85996249-5779-4483-f87a-44307cc12d56"
      },
      "source": [
        "!pip install matplotlib python-sat    "
      ],
      "execution_count": 1,
      "outputs": [
        {
          "output_type": "stream",
          "text": [
            "Requirement already satisfied: matplotlib in /usr/local/lib/python3.7/dist-packages (3.2.2)\n",
            "Collecting python-sat\n",
            "\u001b[?25l  Downloading https://files.pythonhosted.org/packages/9d/19/07b70980437b111997c90de71e63b4dc1388622bbe3baed5f2e6870acb20/python_sat-0.1.7.dev3-cp37-cp37m-manylinux2010_x86_64.whl (1.8MB)\n",
            "\u001b[K     |████████████████████████████████| 1.8MB 14.1MB/s \n",
            "\u001b[?25hRequirement already satisfied: python-dateutil>=2.1 in /usr/local/lib/python3.7/dist-packages (from matplotlib) (2.8.1)\n",
            "Requirement already satisfied: cycler>=0.10 in /usr/local/lib/python3.7/dist-packages (from matplotlib) (0.10.0)\n",
            "Requirement already satisfied: numpy>=1.11 in /usr/local/lib/python3.7/dist-packages (from matplotlib) (1.19.5)\n",
            "Requirement already satisfied: pyparsing!=2.0.4,!=2.1.2,!=2.1.6,>=2.0.1 in /usr/local/lib/python3.7/dist-packages (from matplotlib) (2.4.7)\n",
            "Requirement already satisfied: kiwisolver>=1.0.1 in /usr/local/lib/python3.7/dist-packages (from matplotlib) (1.3.1)\n",
            "Requirement already satisfied: six in /usr/local/lib/python3.7/dist-packages (from python-sat) (1.15.0)\n",
            "Installing collected packages: python-sat\n",
            "Successfully installed python-sat-0.1.7.dev3\n"
          ],
          "name": "stdout"
        }
      ]
    },
    {
      "cell_type": "code",
      "metadata": {
        "id": "KWs6VsDPEGaE"
      },
      "source": [
        "import os\n",
        "import numpy as np\n",
        "from pysat.solvers import Glucose3\n",
        "from matplotlib import pyplot as plt\n",
        "import matplotlib.patches as patches\n",
        "from fractions import Fraction"
      ],
      "execution_count": 2,
      "outputs": []
    },
    {
      "cell_type": "code",
      "metadata": {
        "id": "RDb0C0doENLb"
      },
      "source": [
        "class Pos:\n",
        "  def __init__(self, *arr):\n",
        "    assert len(arr) == 2\n",
        "    self.xy = arr\n",
        "\n",
        "  def __add__(self, that):\n",
        "    return [a + b for a, b in zip(self.xy, that.xy)]\n",
        "  \n",
        "  def __sub__(self, that):\n",
        "    return [a - b for a, b in zip(self.xy, that.xy)]\n",
        "  \n",
        "  def __neg__(self):\n",
        "    return [-a for a in self.xy]\n",
        "  \n",
        "  def __str__(self):\n",
        "    return str(self.xy)\n",
        "  \n",
        "  def __repr__(self):\n",
        "    return str(self)\n",
        "  \n",
        "  def __getitem__(self, index):\n",
        "    return self.xy[index]\n",
        "\n",
        "  def npArray(self):\n",
        "    return np.array(self.xy)\n",
        "  \n",
        "  def parse(s):\n",
        "    arr = [int(a) for a in s.split(',')]\n",
        "    return Pos(*arr)\n",
        "\n",
        "\n",
        "class Box:\n",
        "  def __init__(self, line):\n",
        "    arr = line.split('\\t')\n",
        "    self.pos = Pos.parse(arr[0])\n",
        "    self.size = Pos.parse(arr[1])\n",
        "    self.offsets = [Pos.parse(pos) for pos in arr[2].split(' ')]\n",
        "    assert len(self.offsets) > 0\n",
        "  \n",
        "  def __str__(self):\n",
        "    return 'Box(pos={}, size={}, offsets={})'.format(self.pos, self.size, self.offsets)\n",
        "  \n",
        "  def __repr__(self):\n",
        "    return str(self)"
      ],
      "execution_count": 3,
      "outputs": []
    },
    {
      "cell_type": "code",
      "metadata": {
        "id": "bzShz1LyESeo"
      },
      "source": [
        "def getShiftNumber(size, offset, possibleShifts):\n",
        "  shift = Fraction(offset[0], size[0]), Fraction(offset[1], size[1])\n",
        "  if shift not in possibleShifts:\n",
        "    possibleShifts[shift] = len(possibleShifts)\n",
        "  return possibleShifts[shift]\n",
        "\n",
        "def generateBoxWithShifts(box, possibleShifts):\n",
        "  #переводит боксы со смещениями в смещенные боксы с номером смещения \n",
        "  boxes = []\n",
        "  for offset in box.offsets:\n",
        "    #нумерует смещение, чтобы можно было сопоставить перменные\n",
        "    shift = Fraction(offset[0], box.size[0]), Fraction(offset[1], box.size[1])\n",
        "    if shift not in possibleShifts:\n",
        "      possibleShifts[shift] = len(possibleShifts)\n",
        "    shiftNumber = possibleShifts[shift]\n",
        "    shiftedBox = np.zeros(4)\n",
        "    shiftedBox[:2] = (box.pos.npArray() - offset.npArray())\n",
        "    shiftedBox[2:] = (box.pos.npArray() - offset.npArray() + box.size.npArray())\n",
        "    boxes.append((shiftedBox, shiftNumber))\n",
        "  return boxes\n",
        "\n",
        "def intercect(box1, box2):\n",
        "  dx = min(box1[2], box2[2]) - max(box1[0], box2[0])\n",
        "  dy = min(box1[3], box2[3]) - max(box1[1], box2[1])\n",
        "  return (dx>=0) and (dy>=0) "
      ],
      "execution_count": 4,
      "outputs": []
    },
    {
      "cell_type": "code",
      "metadata": {
        "id": "sZ3Uk7-YMvei"
      },
      "source": [
        "def chooseBoxesShifts(boxesWithShifts, shiftsCount):\n",
        "  #строим задачу и находим решение\n",
        "  g = Glucose3()\n",
        "\n",
        "  for i in range(len(boxesWithShifts)):\n",
        "    #не больше одного из всех вариантов расположения\n",
        "    for k in range(len(boxesWithShifts[i])):\n",
        "      for j in range(k+1, len(boxesWithShifts[i])):\n",
        "        g.add_clause([-((i+1)*shiftsCount + boxesWithShifts[i][k][1]), -((i+1)*shiftsCount + boxesWithShifts[i][j][1])])\n",
        "    \n",
        "    #хотя бы 1 расположение\n",
        "    g.add_clause([(i+1)*shiftsCount + boxesWithShifts[i][j][1] for j in range(len(boxesWithShifts[i]))])\n",
        "  \n",
        "    for box, shiftNumber in boxesWithShifts[i]:\n",
        "      if box[0] < 0 or box[1] < 0 or box[2] > 500 or box[3] > 500: #меньше 500*500\n",
        "        g.add_clause([-((i+1)*shiftsCount + shiftNumber)])\n",
        "\n",
        "    for j in range(i+1, len(boxesWithShifts)):\n",
        "      for box1, shift1Number in boxesWithShifts[i]:\n",
        "        for box2, shift2Number in boxesWithShifts[j]:\n",
        "          if intercect(box1, box2):\n",
        "            g.add_clause([-((i+1)*shiftsCount + shift1Number), -((j+1)*shiftsCount + shift2Number)])\n",
        "  \n",
        "  if not g.solve():\n",
        "    return None\n",
        "\n",
        "  return g.get_model()"
      ],
      "execution_count": 5,
      "outputs": []
    },
    {
      "cell_type": "code",
      "metadata": {
        "id": "7Gcw9L9EMxwJ"
      },
      "source": [
        "def draw(boxesWithShifts, solution, points, shiftsCount):\n",
        "  #отрисовываем те боксы со смещениями, которые были выбраны\n",
        "  fig, ax = plt.subplots(figsize=(12,8))\n",
        "  scatter_x = [point.pos[0] for point in points]\n",
        "  scatter_y = [point.pos[1] for point in points]\n",
        "  ax.scatter(scatter_x, scatter_y, color='green')\n",
        "  for i in solution:\n",
        "    if i > 0:\n",
        "      boxIndex = i//shiftsCount - 1\n",
        "      shiftIndex = i % shiftsCount\n",
        "      for box, shiftNumber in boxesWithShifts[boxIndex]:\n",
        "        if shiftNumber == shiftIndex:\n",
        "          rect = patches.Rectangle((box[0], box[1]), box[2] - box[0], box[3] - box[1], linewidth=1, alpha=0.3)\n",
        "          ax.add_patch(rect)\n",
        "  plt.show()\n",
        "\n",
        "def validate(shiftsToUse, boxesWithShifts):\n",
        "  assert shiftsToUse is not None, \"Невозможно отрисовать\"\n",
        "  #проверяем, что количество совпало\n",
        "  assert np.sum(np.array(shiftsToUse) > 0) == len(boxesWithShifts) \n",
        "\n",
        "def createShiftedBoxes(boxes, possibleShifts):\n",
        "  boxesWithShifts = [generateBoxWithShifts(box, possibleShifts) for box in boxes]\n",
        "  shiftsToUse = chooseBoxesShifts(boxesWithShifts, len(possibleShifts))\n",
        "  return boxesWithShifts, shiftsToUse"
      ],
      "execution_count": 6,
      "outputs": []
    },
    {
      "cell_type": "code",
      "metadata": {
        "colab": {
          "base_uri": "https://localhost:8080/",
          "height": 483
        },
        "id": "Q0q4SW3oM0X4",
        "outputId": "2c0c4689-9ed1-4922-c46c-e1ce994f9a5c"
      },
      "source": [
        "with open(\"test1.txt\") as f:\n",
        "  boxes = [Box(line) for line in f.read().strip().split('\\n')]\n",
        "possibleShifts = dict()\n",
        "boxesWithShifts, shiftsToUse = createShiftedBoxes(boxes, possibleShifts)\n",
        "validate(shiftsToUse, boxesWithShifts)\n",
        "draw(boxesWithShifts, shiftsToUse, boxes, len(possibleShifts))"
      ],
      "execution_count": 7,
      "outputs": [
        {
          "output_type": "display_data",
          "data": {
            "image/png": "[encoded data removed]",
            "text/plain": [
              "<Figure size 864x576 with 1 Axes>"
            ]
          },
          "metadata": {
            "tags": [],
            "needs_background": "light"
          }
        }
      ]
    },
    {
      "cell_type": "code",
      "metadata": {
        "colab": {
          "base_uri": "https://localhost:8080/",
          "height": 483
        },
        "id": "qy7VPD12NtXh",
        "cellView": "code",
        "outputId": "e39453f8-fb56-47a7-efdf-7475ee1ad776"
      },
      "source": [
        "#@title Текст заголовка по умолчанию\n",
        "with open(\"test2.txt\") as f:\n",
        "  boxes = [Box(line) for line in f.read().strip().split('\\n')]\n",
        "possibleShifts = dict()\n",
        "boxesWithShifts, shiftsToUse = createShiftedBoxes(boxes, possibleShifts)\n",
        "validate(shiftsToUse, boxesWithShifts)\n",
        "draw(boxesWithShifts, shiftsToUse, boxes, len(possibleShifts))"
      ],
      "execution_count": 8,
      "outputs": [
        {
          "output_type": "display_data",
          "data": {
            "image/png": "[encoded data removed]",
            "text/plain": [
              "<Figure size 864x576 with 1 Axes>"
            ]
          },
          "metadata": {
            "tags": [],
            "needs_background": "light"
          }
        }
      ]
    },
    {
      "cell_type": "code",
      "metadata": {
        "colab": {
          "base_uri": "https://localhost:8080/",
          "height": 483
        },
        "id": "bt-fKXiB9HIa",
        "outputId": "96c40896-efcf-408a-db16-60ea24f6bd1c"
      },
      "source": [
        "with open(\"test3.txt\") as f:\n",
        "  boxes = [Box(line) for line in f.read().strip().split('\\n')]\n",
        "possibleShifts = dict()\n",
        "boxesWithShifts, shiftsToUse = createShiftedBoxes(boxes, possibleShifts)\n",
        "validate(shiftsToUse, boxesWithShifts)\n",
        "draw(boxesWithShifts, shiftsToUse, boxes, len(possibleShifts))"
      ],
      "execution_count": 9,
      "outputs": [
        {
          "output_type": "display_data",
          "data": {
            "image/png": "[encoded data removed]",
            "text/plain": [
              "<Figure size 864x576 with 1 Axes>"
            ]
          },
          "metadata": {
            "tags": [],
            "needs_background": "light"
          }
        }
      ]
    }
  ]
}